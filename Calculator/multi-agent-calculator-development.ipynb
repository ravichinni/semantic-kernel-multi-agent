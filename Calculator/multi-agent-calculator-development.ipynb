{
 "cells": [
  {
   "cell_type": "code",
   "execution_count": 2,
   "metadata": {
    "dotnet_interactive": {
     "language": "csharp"
    },
    "polyglot_notebook": {
     "kernelName": "csharp"
    },
    "vscode": {
     "languageId": "polyglot-notebook"
    }
   },
   "outputs": [
    {
     "data": {
      "text/html": [
       "<div><div></div><div></div><div><strong>Installed Packages</strong><ul><li><span>dotenv.net, 3.2.1</span></li><li><span>Microsoft.SemanticKernel.Agents.Abstractions, 1.14.1-alpha</span></li><li><span>Microsoft.SemanticKernel.Agents.Core, 1.14.1-alpha</span></li><li><span>Microsoft.SemanticKernel.Agents.OpenAI, 1.14.1-alpha</span></li><li><span>Microsoft.SemanticKernel.Connectors.OpenAI, 1.14.1</span></li></ul></div></div>"
      ]
     },
     "metadata": {},
     "output_type": "display_data"
    }
   ],
   "source": [
    "#r \"nuget: Microsoft.SemanticKernel.Agents.Abstractions, 1.14.1-alpha\"\n",
    "#r \"nuget: Microsoft.SemanticKernel.Agents.Core, 1.14.1-alpha\"\n",
    "#r \"nuget: Microsoft.SemanticKernel.Agents.OpenAI, 1.14.1-alpha\"\n",
    "#r \"nuget: Microsoft.SemanticKernel.Connectors.OpenAI, 1.14.1-alpha\"\n",
    "#r \"nuget: dotenv.net\""
   ]
  },
  {
   "cell_type": "code",
   "execution_count": 5,
   "metadata": {
    "dotnet_interactive": {
     "language": "csharp"
    },
    "polyglot_notebook": {
     "kernelName": "csharp"
    },
    "vscode": {
     "languageId": "polyglot-notebook"
    }
   },
   "outputs": [],
   "source": [
    "using System.ComponentModel;\n",
    "using Microsoft.SemanticKernel;\n",
    "using Microsoft.SemanticKernel.Agents;\n",
    "using Microsoft.SemanticKernel.Agents.OpenAI;\n",
    "using Microsoft.SemanticKernel.ChatCompletion;\n",
    "using Microsoft.SemanticKernel.Connectors.OpenAI;\n",
    "using Microsoft.SemanticKernel.Agents.Chat;\n",
    "using dotenv.net;\n",
    "using dotenv.net.Utilities;"
   ]
  },
  {
   "cell_type": "code",
   "execution_count": 7,
   "metadata": {
    "vscode": {
     "languageId": "polyglot-notebook"
    }
   },
   "outputs": [],
   "source": [
    "DotEnv.Load();\n",
    "var modelDeploymentName =EnvReader.GetStringValue(\"deploymentName\");\n",
    "var modelApiKey =EnvReader.GetStringValue(\"apiKey\");\n",
    "var modelEndPoint=EnvReader.GetStringValue(\"endpoint\");\n"
   ]
  },
  {
   "cell_type": "code",
   "execution_count": 8,
   "metadata": {
    "dotnet_interactive": {
     "language": "csharp"
    },
    "polyglot_notebook": {
     "kernelName": "csharp"
    },
    "vscode": {
     "languageId": "polyglot-notebook"
    }
   },
   "outputs": [],
   "source": [
    "IKernelBuilder kernelBuilder = Kernel.CreateBuilder();\n",
    "kernelBuilder.AddAzureOpenAIChatCompletion(\n",
    "    deploymentName: modelDeploymentName,\n",
    "    apiKey: modelApiKey,\n",
    "    endpoint: modelEndPoint\n",
    "    //modelId: \"gpt-4o\", // Optional name of the underlying model if the deployment name doesn't match the model name\n",
    "    //serviceId: \"YOUR_SERVICE_ID\" // Optional; for targeting specific services within Semantic Kernel\n",
    ");\n",
    "Kernel kernel = kernelBuilder.Build();"
   ]
  },
  {
   "cell_type": "code",
   "execution_count": 9,
   "metadata": {
    "dotnet_interactive": {
     "language": "csharp"
    },
    "polyglot_notebook": {
     "kernelName": "csharp"
    },
    "vscode": {
     "languageId": "polyglot-notebook"
    }
   },
   "outputs": [],
   "source": [
    "string ProgramManager = \"\"\"\n",
    "    You are a program manager which will take the requirement and create a plan for creating app. Program Manager understands the \n",
    "    user requirements and form the detail documents with requirements and costing. \n",
    "\"\"\";\n",
    "\n",
    "string SoftwareEngineer = \"\"\"\n",
    "   You are Software Engieer, and your goal is develop web app using HTML and JavaScript (JS) by taking into consideration all\n",
    "   the requirements given by Program Manager. \n",
    "\"\"\";\n",
    "\n",
    "string Manager = \"\"\"\n",
    "    You are manager which will review software engineer code, and make sure all client requirements are completed.\n",
    "     Once all client requirements are completed, you can approve the request by just responding \"approve\"\n",
    "\"\"\";\n",
    "\n",
    "#pragma warning disable SKEXP0110, SKEXP0001 // Rethrow to preserve stack details\n",
    "\n",
    " ChatCompletionAgent ProgramManagerAgent =\n",
    "            new()\n",
    "            {\n",
    "                Instructions = ProgramManager,\n",
    "                Name = \"ProgaramManagerAgent\",\n",
    "                Kernel = kernel\n",
    "            };\n",
    "\n",
    " ChatCompletionAgent SoftwareEngineerAgent =\n",
    "            new()\n",
    "            {\n",
    "                Instructions = SoftwareEngineer,\n",
    "                Name = \"SoftwareEngineerAgent\",\n",
    "                Kernel = kernel\n",
    "            };\n",
    "\n",
    " ChatCompletionAgent ProjectManagerAgent =\n",
    "            new()\n",
    "            {\n",
    "                Instructions = Manager,\n",
    "                Name = \"ProjectManagerAgent\",\n",
    "                Kernel = kernel\n",
    "            };"
   ]
  },
  {
   "cell_type": "code",
   "execution_count": 10,
   "metadata": {
    "dotnet_interactive": {
     "language": "csharp"
    },
    "polyglot_notebook": {
     "kernelName": "csharp"
    },
    "vscode": {
     "languageId": "polyglot-notebook"
    }
   },
   "outputs": [],
   "source": [
    "#pragma warning disable SKEXP0110, SKEXP0001 // Rethrow to preserve stack details\n",
    "\n",
    "using System.Threading;\n",
    "\n",
    "private sealed class ApprovalTerminationStrategy : TerminationStrategy\n",
    "{\n",
    "    // Terminate when the final message contains the term \"approve\"\n",
    "    protected override Task<bool> ShouldAgentTerminateAsync(Agent agent, IReadOnlyList<ChatMessageContent> history, CancellationToken cancellationToken)\n",
    "        => Task.FromResult(history[history.Count - 1].Content?.Contains(\"approve\", StringComparison.OrdinalIgnoreCase) ?? false);\n",
    "}"
   ]
  },
  {
   "cell_type": "code",
   "execution_count": 11,
   "metadata": {
    "dotnet_interactive": {
     "language": "csharp"
    },
    "polyglot_notebook": {
     "kernelName": "csharp"
    },
    "vscode": {
     "languageId": "polyglot-notebook"
    }
   },
   "outputs": [],
   "source": [
    "#pragma warning disable SKEXP0110, SKEXP0001 \n",
    "\n",
    "AgentGroupChat chat =\n",
    "    new(ProgramManagerAgent, SoftwareEngineerAgent, ProjectManagerAgent)\n",
    "    {\n",
    "        ExecutionSettings =\n",
    "            new()\n",
    "            {\n",
    "                TerminationStrategy =\n",
    "                    new ApprovalTerminationStrategy()\n",
    "                    {\n",
    "                        Agents = [ProjectManagerAgent],\n",
    "                        MaximumIterations = 6,\n",
    "                    }\n",
    "            }\n",
    "    };"
   ]
  },
  {
   "cell_type": "code",
   "execution_count": null,
   "metadata": {
    "dotnet_interactive": {
     "language": "csharp"
    },
    "polyglot_notebook": {
     "kernelName": "csharp"
    },
    "vscode": {
     "languageId": "polyglot-notebook"
    }
   },
   "outputs": [
    {
     "name": "stdout",
     "output_type": "stream",
     "text": [
      "# user: '\n",
      "I want to develop app which will provide me calculator. Keep it very simple. And get final approval from manager.'\r\n"
     ]
    }
   ],
   "source": [
    "#pragma warning disable SKEXP0110, SKEXP0001 \n",
    "// Invoke chat and display messages.\n",
    "string input = \"\"\"\n",
    "\n",
    "I want to develop app which will provide me calculator. Keep it very simple. And get final approval from manager.\n",
    "\"\"\";\n",
    "\n",
    "chat.AddChatMessage(new ChatMessageContent(AuthorRole.User, input));\n",
    "Console.WriteLine($\"# {AuthorRole.User}: '{input}'\");\n",
    "\n",
    "await foreach (var content in chat.InvokeAsync())\n",
    "{\n",
    "    Console.WriteLine($\"# {content.Role} - {content.AuthorName ?? \"*\"}: '{content.Content}'\");\n",
    "}"
   ]
  }
 ],
 "metadata": {
  "kernelspec": {
   "display_name": ".NET (C#)",
   "language": "C#",
   "name": ".net-csharp"
  },
  "language_info": {
   "name": "python"
  },
  "polyglot_notebook": {
   "kernelInfo": {
    "defaultKernelName": "csharp",
    "items": [
     {
      "aliases": [],
      "name": "csharp"
     }
    ]
   }
  }
 },
 "nbformat": 4,
 "nbformat_minor": 2
}
